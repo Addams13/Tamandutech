{
  "nbformat": 4,
  "nbformat_minor": 0,
  "metadata": {
    "colab": {
      "name": "PID Evolution.ipynb",
      "provenance": [],
      "collapsed_sections": [],
      "authorship_tag": "ABX9TyNyj8+N7xFEaZSTIAEGTnUF",
      "include_colab_link": true
    },
    "kernelspec": {
      "name": "python3",
      "display_name": "Python 3"
    },
    "language_info": {
      "name": "python"
    }
  },
  "cells": [
    {
      "cell_type": "markdown",
      "metadata": {
        "id": "view-in-github",
        "colab_type": "text"
      },
      "source": [
        "<a href=\"https://colab.research.google.com/github/mCaburlao/Tamandutech/blob/main/PID_Evolution.ipynb\" target=\"_parent\"><img src=\"https://colab.research.google.com/assets/colab-badge.svg\" alt=\"Open In Colab\"/></a>"
      ]
    },
    {
      "cell_type": "markdown",
      "source": [
        "# Teste de algoritmos de otimização"
      ],
      "metadata": {
        "id": "qZdz1zmwvUgx"
      }
    },
    {
      "cell_type": "markdown",
      "source": [
        "## Evolução"
      ],
      "metadata": {
        "id": "Iac9SYWcvl6h"
      }
    },
    {
      "cell_type": "markdown",
      "source": [
        "### Bibliotecas"
      ],
      "metadata": {
        "id": "63ycnEAgja0S"
      }
    },
    {
      "cell_type": "code",
      "execution_count": 17,
      "metadata": {
        "id": "8T8IvFA4vTdD"
      },
      "outputs": [],
      "source": [
        "import numpy as np\n",
        "from random import random\n",
        "from random import uniform"
      ]
    },
    {
      "cell_type": "markdown",
      "source": [
        "### Criando novos PIDs com um PID de base:"
      ],
      "metadata": {
        "id": "qqQeYyLnjd5K"
      }
    },
    {
      "cell_type": "markdown",
      "source": [
        "O PID base para os novos testes é adicionado abaixo, onde cada sequência de 3 valores do vetor represenda um dos (Kp, Ki, Kd) utilizados."
      ],
      "metadata": {
        "id": "0H7J0CGOjwQb"
      }
    },
    {
      "cell_type": "code",
      "source": [
        "###         (Cons. reta)(Cons. curva)\n",
        "PID_atual = [25, 50, 25,  25, 50, 25]"
      ],
      "metadata": {
        "id": "OFTM9WoMJAJL"
      },
      "execution_count": 39,
      "outputs": []
    },
    {
      "cell_type": "markdown",
      "source": [
        "Existe uma probabilidade 'prob_change' de que um dos valores do vetor sofra uma alteração de até mais ou menos 'max_change'."
      ],
      "metadata": {
        "id": "yZIqv5fvk8HX"
      }
    },
    {
      "cell_type": "code",
      "source": [
        "prob_change = 0.50\n",
        "max_change = 2"
      ],
      "metadata": {
        "id": "2YZEQf_bJybq"
      },
      "execution_count": 34,
      "outputs": []
    },
    {
      "cell_type": "markdown",
      "source": [
        "Abaixo está o módulo que cria um novo PID com base no atual."
      ],
      "metadata": {
        "id": "3fRqSVIm_Txy"
      }
    },
    {
      "cell_type": "code",
      "source": [
        "def new_indv(PID_base):\n",
        "\n",
        "  New_PID = np.zeros(len(PID_base))\n",
        "\n",
        "  for i in range(len(PID_base)):\n",
        "    if random() <= prob_change:\n",
        "      New_PID[i] = \"{:.2f}\".format(PID_base[i] + uniform((-max_change), max_change))\n",
        "    else:\n",
        "      New_PID[i] = PID_base[i]\n",
        "  return New_PID"
      ],
      "metadata": {
        "id": "tADyf3m7_TI9"
      },
      "execution_count": 35,
      "outputs": []
    },
    {
      "cell_type": "markdown",
      "source": [
        "Com ele, são feitos 'n' PIDs com mudanças mínimas aleatórias."
      ],
      "metadata": {
        "id": "SEYJSo-lFO8o"
      }
    },
    {
      "cell_type": "code",
      "source": [
        "n = 10\n",
        "\n",
        "def population(evolution, PID):\n",
        "  p = {}\n",
        "  for i in range(n):\n",
        "    p[i] = evolution(PID)\n",
        "  return p"
      ],
      "metadata": {
        "id": "CuJ-YGB7D-Cd"
      },
      "execution_count": 36,
      "outputs": []
    },
    {
      "cell_type": "code",
      "source": [
        "population(new_indv, PID_atual)"
      ],
      "metadata": {
        "colab": {
          "base_uri": "https://localhost:8080/"
        },
        "id": "gJEKYndnEXaW",
        "outputId": "ce6f9b87-f5d2-43f3-e52e-e595d1dd996b"
      },
      "execution_count": 40,
      "outputs": [
        {
          "output_type": "execute_result",
          "data": {
            "text/plain": [
              "{0: array([24.6 , 50.  , 25.  , 25.02, 48.06, 25.  ]),\n",
              " 1: array([25.  , 48.95, 25.  , 25.37, 50.  , 24.39]),\n",
              " 2: array([25.  , 48.62, 23.71, 23.32, 50.  , 24.72]),\n",
              " 3: array([26.34, 50.  , 23.04, 25.  , 50.  , 25.08]),\n",
              " 4: array([23.08, 50.92, 25.  , 25.  , 50.  , 25.  ]),\n",
              " 5: array([25.21, 51.6 , 25.95, 24.37, 50.  , 25.  ]),\n",
              " 6: array([25.  , 49.03, 26.68, 25.  , 50.  , 26.6 ]),\n",
              " 7: array([25.  , 50.  , 25.  , 25.57, 50.  , 23.28]),\n",
              " 8: array([26.85, 51.  , 25.  , 25.  , 50.  , 23.12]),\n",
              " 9: array([23.83, 50.  , 25.  , 25.  , 50.24, 24.66])}"
            ]
          },
          "metadata": {},
          "execution_count": 40
        }
      ]
    },
    {
      "cell_type": "markdown",
      "source": [
        "### Novos PIDs com base em dois \"pais\""
      ],
      "metadata": {
        "id": "W6C9TYUYFBKq"
      }
    },
    {
      "cell_type": "markdown",
      "source": [
        "Aqui se faz um cruzamento entre dois PIDs diferentes que tiveram uma boa performance."
      ],
      "metadata": {
        "id": "61gioh9vFvWw"
      }
    },
    {
      "cell_type": "code",
      "source": [
        "PID_primeiro = [25.2, 50.4, 25.1,  25.2, 50.7, 25.7]\n",
        "PID_segundo = [40, 45, 30, 50, 25, 50]"
      ],
      "metadata": {
        "id": "VuCHqGiaHRQu"
      },
      "execution_count": 28,
      "outputs": []
    },
    {
      "cell_type": "markdown",
      "source": [
        "Existe uma chance 'first_prevalence' de que uma constante do PID seja igual a do primeiro PID, e uma outra 'sec_prevalence' de que seja o valor do segundo PID.\n",
        "Também existe uma chance de que o número gerado esteja entre as outras constantes, ou que seja um número aleatório (mutação)."
      ],
      "metadata": {
        "id": "olD82yTKGE1L"
      }
    },
    {
      "cell_type": "markdown",
      "source": [
        "Os parâmetros são:"
      ],
      "metadata": {
        "id": "3-zrjnzdHNKX"
      }
    },
    {
      "cell_type": "code",
      "source": [
        "mutation_change = 0.05\n",
        "first_prevalence = 0.35\n",
        "sec_prevalence = 0.35\n",
        "between_both = 0.25"
      ],
      "metadata": {
        "id": "Ig3KnYraHX2L"
      },
      "execution_count": 30,
      "outputs": []
    },
    {
      "cell_type": "markdown",
      "source": [
        "E o módulo:"
      ],
      "metadata": {
        "id": "U5QmBuZ9HY26"
      }
    },
    {
      "cell_type": "code",
      "source": [
        "def crossover(first, sec):\n",
        "  son = np.zeros(len(first))\n",
        "\n",
        "  for i in range(len(first)):\n",
        "    probability = random()\n",
        "\n",
        "    if probability <= first_prevalence:\n",
        "      son[i] = first[i]\n",
        "    elif probability <= (first_prevalence + sec_prevalence):\n",
        "      son[i] = sec[i]\n",
        "    elif probability <= (1 - mutation_change):\n",
        "      son[i] = \"{:.2f}\".format(uniform(min(first[i], sec[i]), max(first[i], sec[i])))\n",
        "    else:\n",
        "      son[i] = \"{:.2f}\".format(uniform(0, 100))\n",
        "\n",
        "  return son"
      ],
      "metadata": {
        "id": "5p3Des55QIUr"
      },
      "execution_count": 31,
      "outputs": []
    },
    {
      "cell_type": "markdown",
      "source": [
        "E com isso se cria um conjunto de 'n' PIDs para teste:"
      ],
      "metadata": {
        "id": "MsWYHbE6Ivbd"
      }
    },
    {
      "cell_type": "code",
      "source": [
        "n = 10\n",
        "\n",
        "def population(evolution, PID1, PID2):\n",
        "  p = {}\n",
        "  for i in range(n):\n",
        "    p[i] = evolution(PID1, PID2)\n",
        "  return p"
      ],
      "metadata": {
        "id": "6Dl9KNCGIizA"
      },
      "execution_count": 32,
      "outputs": []
    },
    {
      "cell_type": "code",
      "source": [
        "population(crossover, PID_primeiro, PID_segundo)"
      ],
      "metadata": {
        "colab": {
          "base_uri": "https://localhost:8080/"
        },
        "id": "aFvzvKVTH_yw",
        "outputId": "f8ccd10c-bd70-4d1a-d532-20033c5d4964"
      },
      "execution_count": 33,
      "outputs": [
        {
          "output_type": "execute_result",
          "data": {
            "text/plain": [
              "{0: array([25.2, 50.4, 30. , 50. , 25. , 41. ]),\n",
              " 1: array([40.  , 46.44, 30.  , 50.  , 50.7 , 25.7 ]),\n",
              " 2: array([40.  , 45.  , 30.  , 43.24, 50.7 , 50.  ]),\n",
              " 3: array([40.  , 49.17, 30.  , 41.34, 50.7 , 43.77]),\n",
              " 4: array([73.81, 49.02, 30.  , 50.  , 27.32, 25.7 ]),\n",
              " 5: array([40.  , 46.88, 25.1 , 49.29, 25.  , 50.  ]),\n",
              " 6: array([25.2, 45. , 25.1, 25.2, 25. , 47.3]),\n",
              " 7: array([40. , 47.2, 25.1, 50. , 25. , 50. ]),\n",
              " 8: array([33.79, 45.  , 30.  , 25.2 , 50.7 , 25.7 ]),\n",
              " 9: array([25.2 , 46.71, 25.1 , 25.2 , 25.  , 50.  ])}"
            ]
          },
          "metadata": {},
          "execution_count": 33
        }
      ]
    }
  ]
}